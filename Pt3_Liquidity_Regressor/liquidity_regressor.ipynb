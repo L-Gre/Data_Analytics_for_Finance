{
 "cells": [
  {
   "cell_type": "code",
   "execution_count": 3,
   "metadata": {},
   "outputs": [],
   "source": [
    "# import libraries\n",
    "\n",
    "import numpy as np\n",
    "import pandas as pd\n",
    "from matplotlib import pyplot as pyplot\n",
    "import seaborn as sns\n",
    "\n",
    "from dotenv import load_dotenv\n",
    "import os\n",
    "\n",
    "# Load environment variables from .env file\n",
    "load_dotenv()\n",
    "\n",
    "# Access the PROJECT_PATH variable\n",
    "project_path = os.getenv(\"PROJECT_PATH\")"
   ]
  },
  {
   "cell_type": "code",
   "execution_count": 5,
   "metadata": {},
   "outputs": [],
   "source": [
    "df_liquidity_data = pd.read_csv(os.path.join(project_path, 'liquidity_data.csv'))"
   ]
  },
  {
   "cell_type": "code",
   "execution_count": 6,
   "metadata": {},
   "outputs": [
    {
     "data": {
      "text/html": [
       "<div>\n",
       "<style scoped>\n",
       "    .dataframe tbody tr th:only-of-type {\n",
       "        vertical-align: middle;\n",
       "    }\n",
       "\n",
       "    .dataframe tbody tr th {\n",
       "        vertical-align: top;\n",
       "    }\n",
       "\n",
       "    .dataframe thead th {\n",
       "        text-align: right;\n",
       "    }\n",
       "</style>\n",
       "<table border=\"1\" class=\"dataframe\">\n",
       "  <thead>\n",
       "    <tr style=\"text-align: right;\">\n",
       "      <th></th>\n",
       "      <th>available_liquidity</th>\n",
       "      <th>sp_score</th>\n",
       "      <th>market_cap</th>\n",
       "      <th>total_debt</th>\n",
       "      <th>ltm_capex</th>\n",
       "      <th>ltm_ebitda</th>\n",
       "      <th>ltm_fcf</th>\n",
       "      <th>ltm_revenue</th>\n",
       "    </tr>\n",
       "  </thead>\n",
       "  <tbody>\n",
       "    <tr>\n",
       "      <th>0</th>\n",
       "      <td>28694.04271</td>\n",
       "      <td>2</td>\n",
       "      <td>54856.1961</td>\n",
       "      <td>84628.0</td>\n",
       "      <td>-9262.0</td>\n",
       "      <td>21387.00032</td>\n",
       "      <td>9488.0</td>\n",
       "      <td>170315.0</td>\n",
       "    </tr>\n",
       "    <tr>\n",
       "      <th>1</th>\n",
       "      <td>24784.00051</td>\n",
       "      <td>7</td>\n",
       "      <td>209150.6401</td>\n",
       "      <td>57909.0</td>\n",
       "      <td>-2021.0</td>\n",
       "      <td>15161.00019</td>\n",
       "      <td>12105.0</td>\n",
       "      <td>37727.0</td>\n",
       "    </tr>\n",
       "    <tr>\n",
       "      <th>2</th>\n",
       "      <td>24142.00013</td>\n",
       "      <td>6</td>\n",
       "      <td>180108.3453</td>\n",
       "      <td>32970.0</td>\n",
       "      <td>-1817.0</td>\n",
       "      <td>15818.99981</td>\n",
       "      <td>12604.0</td>\n",
       "      <td>192592.0</td>\n",
       "    </tr>\n",
       "  </tbody>\n",
       "</table>\n",
       "</div>"
      ],
      "text/plain": [
       "   available_liquidity  sp_score   market_cap  total_debt  ltm_capex  \\\n",
       "0          28694.04271         2   54856.1961     84628.0    -9262.0   \n",
       "1          24784.00051         7  209150.6401     57909.0    -2021.0   \n",
       "2          24142.00013         6  180108.3453     32970.0    -1817.0   \n",
       "\n",
       "    ltm_ebitda  ltm_fcf  ltm_revenue  \n",
       "0  21387.00032   9488.0     170315.0  \n",
       "1  15161.00019  12105.0      37727.0  \n",
       "2  15818.99981  12604.0     192592.0  "
      ]
     },
     "execution_count": 6,
     "metadata": {},
     "output_type": "execute_result"
    }
   ],
   "source": [
    "df_liquidity_data.head(3)"
   ]
  },
  {
   "cell_type": "code",
   "execution_count": null,
   "metadata": {},
   "outputs": [],
   "source": []
  }
 ],
 "metadata": {
  "kernelspec": {
   "display_name": ".venv",
   "language": "python",
   "name": "python3"
  },
  "language_info": {
   "codemirror_mode": {
    "name": "ipython",
    "version": 3
   },
   "file_extension": ".py",
   "mimetype": "text/x-python",
   "name": "python",
   "nbconvert_exporter": "python",
   "pygments_lexer": "ipython3",
   "version": "3.10.4"
  }
 },
 "nbformat": 4,
 "nbformat_minor": 2
}
