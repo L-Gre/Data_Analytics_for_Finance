{
 "cells": [
  {
   "cell_type": "markdown",
   "metadata": {},
   "source": [
    "# Arrays & Multi-dimensional arrays"
   ]
  },
  {
   "cell_type": "markdown",
   "metadata": {},
   "source": [
    ">\n",
    "> **Terminology**:\n",
    ">\n",
    "> *module*: collection of functions \\\n",
    "> *package / library*: collection of modules\n",
    ">\n"
   ]
  },
  {
   "cell_type": "markdown",
   "metadata": {
    "vscode": {
     "languageId": "plaintext"
    }
   },
   "source": [
    "### Import functions\n",
    "\n",
    "> **import** *function_name* **as** *synonym*"
   ]
  },
  {
   "cell_type": "code",
   "execution_count": 3,
   "metadata": {},
   "outputs": [],
   "source": [
    "import numpy as np"
   ]
  },
  {
   "cell_type": "markdown",
   "metadata": {},
   "source": [
    "### Arrays"
   ]
  },
  {
   "cell_type": "code",
   "execution_count": 2,
   "metadata": {},
   "outputs": [
    {
     "name": "stdout",
     "output_type": "stream",
     "text": [
      "[1 2 3 4 5]\n",
      "['1' '2' 'three' '4' '5']\n",
      "[1. 2. 3. 4. 5.]\n"
     ]
    }
   ],
   "source": [
    "# simple array\n",
    "array_1 = np.array([1, 2, 3, 4, 5])\n",
    "print(array_1)\n",
    "type(array_1)\n",
    "\n",
    "# numpy auto-transforms entries: auto-transformation to string\n",
    "array_2 = np.array([1, 2, 'three', 4, 5])\n",
    "print(array_2)\n",
    "\n",
    "# auto-transform to float\n",
    "array_3 = np.array([1, 2, 3.0, 4, 5])\n",
    "print(array_3)"
   ]
  },
  {
   "cell_type": "markdown",
   "metadata": {},
   "source": [
    "### Multi-dimensional arrays"
   ]
  },
  {
   "cell_type": "code",
   "execution_count": 4,
   "metadata": {},
   "outputs": [
    {
     "name": "stdout",
     "output_type": "stream",
     "text": [
      "[[1 2 3]\n",
      " [4 5 6]]\n"
     ]
    },
    {
     "data": {
      "text/plain": [
       "(2, 3)"
      ]
     },
     "execution_count": 4,
     "metadata": {},
     "output_type": "execute_result"
    }
   ],
   "source": [
    "# You can create multi-dimensional arrays using NumPy, i.e. lists of lists --> table w rows and columns\n",
    "\n",
    "array_4 = np.array([[1, 2, 3] , [4, 5, 6]])\n",
    "print(array_4)\n",
    "array_4.shape"
   ]
  },
  {
   "cell_type": "code",
   "execution_count": 6,
   "metadata": {},
   "outputs": [
    {
     "name": "stdout",
     "output_type": "stream",
     "text": [
      "[[1 2]\n",
      " [3 4]\n",
      " [5 6]]\n",
      "---\n",
      "(3, 2)\n"
     ]
    }
   ],
   "source": [
    "# Exercise\n",
    "\n",
    "array_5 = np.array([[1, 2] , [3, 4] , [5, 6]])\n",
    "print(array_5)\n",
    "print('---')\n",
    "print(array_5.shape)"
   ]
  },
  {
   "cell_type": "code",
   "execution_count": 7,
   "metadata": {},
   "outputs": [
    {
     "name": "stdout",
     "output_type": "stream",
     "text": [
      "[[1 2 3]\n",
      " [4 5 6]]\n",
      "[[1 3 5]\n",
      " [2 4 6]]\n"
     ]
    }
   ],
   "source": [
    "# .reshape() and .transpose()\n",
    "\n",
    "print(array_5.reshape(2, 3))\n",
    "print(array_5.transpose())"
   ]
  },
  {
   "cell_type": "code",
   "execution_count": 4,
   "metadata": {},
   "outputs": [],
   "source": [
    "# Exercise\n",
    "\n",
    "array_a = np.array([\n",
    "    ['n', 'e', 'w', 'y', '_', 's'],\n",
    "    ['t', 'o', 'c', 'k', '_', 'r'],\n",
    "    ['_', '_', '_', 'k', 'e', 'x'],\n",
    "    ['c', 'h', 'a', 'n', 'g', 'e']\n",
    "])"
   ]
  },
  {
   "cell_type": "markdown",
   "metadata": {},
   "source": [
    "1. Create a new array, array_b, by reshaping array_a to 6 rows and 4 colUmns\n",
    "2. Print array_b\n",
    "3. Using ranges, print \"new york stock exchange\" from array_b with a new line for each word you will call the print function four times)"
   ]
  },
  {
   "cell_type": "code",
   "execution_count": 5,
   "metadata": {},
   "outputs": [
    {
     "name": "stdout",
     "output_type": "stream",
     "text": [
      "[['n' 'e' 'w' 'y']\n",
      " ['_' 's' 't' 'o']\n",
      " ['c' 'k' '_' 'r']\n",
      " ['_' '_' '_' 'k']\n",
      " ['e' 'x' 'c' 'h']\n",
      " ['a' 'n' 'g' 'e']]\n"
     ]
    }
   ],
   "source": [
    "# 1. \n",
    "\n",
    "array_b = array_a.reshape(6, 4)\n",
    "\n",
    "# 2. \n",
    "\n",
    "print(array_b)"
   ]
  },
  {
   "cell_type": "code",
   "execution_count": 31,
   "metadata": {},
   "outputs": [
    {
     "name": "stdout",
     "output_type": "stream",
     "text": [
      "['n' 'e' 'w']\n",
      "['y' 'o' 'r' 'k']\n",
      "['s' 't' 'o'] ['c' 'k']\n",
      "['e' 'x' 'c' 'h'] ['a' 'n' 'g' 'e']\n"
     ]
    }
   ],
   "source": [
    "# 3. \n",
    "\n",
    "print(array_b[0, :3])\n",
    "print(array_b[:4, 3])\n",
    "print(array_b[1, 1:], array_b[2, :2])\n",
    "print(array_b[4, :], array_b[5, :])"
   ]
  },
  {
   "cell_type": "code",
   "execution_count": 32,
   "metadata": {},
   "outputs": [],
   "source": [
    "# calculating with arrays\n",
    "\n",
    "array_x = np.array([\n",
    "    [1, 2],\n",
    "    [3, 4]\n",
    "])\n",
    "\n",
    "array_y = np.array([\n",
    "    [5, 6],\n",
    "    [7, 8]\n",
    "])"
   ]
  },
  {
   "cell_type": "code",
   "execution_count": 38,
   "metadata": {},
   "outputs": [
    {
     "name": "stdout",
     "output_type": "stream",
     "text": [
      "[[ 6  8]\n",
      " [10 12]]\n",
      "---\n",
      "[[16 18]\n",
      " [20 22]]\n"
     ]
    }
   ],
   "source": [
    "# sum\n",
    "\n",
    "array_z = array_x + array_y\n",
    "print(array_z)\n",
    "print('---')\n",
    "print(array_z + 10)"
   ]
  },
  {
   "cell_type": "markdown",
   "metadata": {},
   "source": [
    "# NumPy Aggregation functions\n",
    "\n",
    "`np.sum()` \\\n",
    "`np.min()` \\\n",
    "`np.max()` \\\n",
    "`np.median()` \\\n",
    "`np.mean()` \\\n",
    "`np.std()` "
   ]
  },
  {
   "cell_type": "code",
   "execution_count": 42,
   "metadata": {},
   "outputs": [
    {
     "name": "stdout",
     "output_type": "stream",
     "text": [
      "[[ 6  8]\n",
      " [10 12]]\n",
      "---\n",
      "Sum of all objects = 36\n",
      "Min value = 6\n",
      "Max value = 12\n"
     ]
    }
   ],
   "source": [
    "print(array_z)\n",
    "print('---')\n",
    "print('Sum of all objects = {}'.format(np.sum(array_z)))\n",
    "print('Min value = {}'.format(np.min(array_z)))\n",
    "print('Max value = {}'.format(np.max(array_z)))"
   ]
  },
  {
   "cell_type": "markdown",
   "metadata": {},
   "source": [
    "Aggregation functions are designed to accept `axis=n` arguement!"
   ]
  },
  {
   "cell_type": "code",
   "execution_count": 44,
   "metadata": {},
   "outputs": [
    {
     "name": "stdout",
     "output_type": "stream",
     "text": [
      "Min value by row = [6 8]\n",
      "Max value by row = [10 12]\n"
     ]
    }
   ],
   "source": [
    "print('Min value by row = {}'.format(np.min(array_z, axis=0)))\n",
    "print('Max value by row = {}'.format(np.max(array_z, axis=0)))"
   ]
  },
  {
   "cell_type": "code",
   "execution_count": 45,
   "metadata": {},
   "outputs": [
    {
     "name": "stdout",
     "output_type": "stream",
     "text": [
      "Min value by columns = [ 6 10]\n",
      "Max value by columns = [ 8 12]\n"
     ]
    }
   ],
   "source": [
    "print('Min value by columns = {}'.format(np.min(array_z, axis=1)))\n",
    "print('Max value by columns = {}'.format(np.max(array_z, axis=1)))"
   ]
  },
  {
   "cell_type": "code",
   "execution_count": 46,
   "metadata": {},
   "outputs": [],
   "source": [
    "# Exercise\n",
    "\n",
    "current_prices = np.array([\n",
    "    [223.84, 113.5, 139.49],\n",
    "    [113.37, 30.37, 265.31],\n",
    "    [1177.98, 54.73, 42.96],\n",
    "])\n",
    "\n",
    "target_prices = np.array([\n",
    "    [232.27, 112.15, 144.2],\n",
    "    [122.3, 34.33, 284.14],\n",
    "    [1384.89, 62.12, 43.06],\n",
    "])"
   ]
  },
  {
   "cell_type": "markdown",
   "metadata": {},
   "source": [
    "1. Create a new array called price_increases by subtracting current_prices from target_prices\n",
    "2. Print price_increases\n",
    "3. Create a new array called returns by dividing price_increases by current_prices and rounding the result to\n",
    "3 decimal places\n",
    "4. Print returns\n",
    "5. Print the maximum value in returns\n",
    "6. Print the mean returns for each industry column rounded to 3 decimal places"
   ]
  },
  {
   "cell_type": "code",
   "execution_count": 47,
   "metadata": {},
   "outputs": [
    {
     "name": "stdout",
     "output_type": "stream",
     "text": [
      "[[ 8.4300e+00 -1.3500e+00  4.7100e+00]\n",
      " [ 8.9300e+00  3.9600e+00  1.8830e+01]\n",
      " [ 2.0691e+02  7.3900e+00  1.0000e-01]]\n"
     ]
    }
   ],
   "source": [
    "# 1.\n",
    "\n",
    "price_increases = target_prices - current_prices\n",
    "\n",
    "# 2.\n",
    "\n",
    "print(price_increases)"
   ]
  },
  {
   "cell_type": "code",
   "execution_count": 51,
   "metadata": {},
   "outputs": [
    {
     "name": "stdout",
     "output_type": "stream",
     "text": [
      "[[ 0.038 -0.012  0.034]\n",
      " [ 0.079  0.13   0.071]\n",
      " [ 0.176  0.135  0.002]]\n"
     ]
    }
   ],
   "source": [
    "# 3. \n",
    "\n",
    "returns = np.round((price_increases / current_prices), 3)\n",
    "\n",
    "# 4.\n",
    "\n",
    "print(returns)"
   ]
  },
  {
   "cell_type": "code",
   "execution_count": 52,
   "metadata": {},
   "outputs": [
    {
     "name": "stdout",
     "output_type": "stream",
     "text": [
      "Max value in returns: 0.176\n"
     ]
    }
   ],
   "source": [
    "# 5. \n",
    "\n",
    "print('Max value in returns: {}'.format(np.max(returns)))"
   ]
  },
  {
   "cell_type": "code",
   "execution_count": 59,
   "metadata": {},
   "outputs": [
    {
     "name": "stdout",
     "output_type": "stream",
     "text": [
      "Mean return per industry: [0.098 0.084 0.036]\n",
      "Mean return in TECH: 0.098\n",
      "Mean return in FINANCIALS: 0.084\n",
      "Mean return in HEALTHCARE: 0.036\n"
     ]
    }
   ],
   "source": [
    "# 6. \n",
    "\n",
    "print('Mean return per industry: {}'.format(np.round(np.mean(returns, axis=0),3)))\n",
    "print('Mean return in TECH: {}'.format(np.round(np.mean(returns[:,0]),3)))\n",
    "print('Mean return in FINANCIALS: {}'.format(np.round(np.mean(returns[:,1]),3)))\n",
    "print('Mean return in HEALTHCARE: {}'.format(np.round(np.mean(returns[:,2]),3)))"
   ]
  }
 ],
 "metadata": {
  "kernelspec": {
   "display_name": ".venv",
   "language": "python",
   "name": "python3"
  },
  "language_info": {
   "codemirror_mode": {
    "name": "ipython",
    "version": 3
   },
   "file_extension": ".py",
   "mimetype": "text/x-python",
   "name": "python",
   "nbconvert_exporter": "python",
   "pygments_lexer": "ipython3",
   "version": "3.10.4"
  }
 },
 "nbformat": 4,
 "nbformat_minor": 2
}
