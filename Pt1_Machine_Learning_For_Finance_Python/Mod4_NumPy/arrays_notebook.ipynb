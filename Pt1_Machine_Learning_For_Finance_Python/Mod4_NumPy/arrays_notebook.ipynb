{
 "cells": [
  {
   "cell_type": "markdown",
   "metadata": {},
   "source": [
    "# Arrays & Multi-dimensional arrays"
   ]
  },
  {
   "cell_type": "markdown",
   "metadata": {},
   "source": [
    ">\n",
    "> **Terminology**:\n",
    ">\n",
    "> *module*: collection of functions \\\n",
    "> *package / library*: collection of modules\n",
    ">\n"
   ]
  },
  {
   "cell_type": "markdown",
   "metadata": {
    "vscode": {
     "languageId": "plaintext"
    }
   },
   "source": [
    "### Import functions\n",
    "\n",
    "> **import** *function_name* **as** *synonym*"
   ]
  },
  {
   "cell_type": "code",
   "execution_count": 1,
   "metadata": {},
   "outputs": [],
   "source": [
    "import numpy as np"
   ]
  },
  {
   "cell_type": "markdown",
   "metadata": {},
   "source": [
    "### Arrays"
   ]
  },
  {
   "cell_type": "code",
   "execution_count": 2,
   "metadata": {},
   "outputs": [
    {
     "name": "stdout",
     "output_type": "stream",
     "text": [
      "[1 2 3 4 5]\n",
      "['1' '2' 'three' '4' '5']\n",
      "[1. 2. 3. 4. 5.]\n"
     ]
    }
   ],
   "source": [
    "# simple array\n",
    "array_1 = np.array([1, 2, 3, 4, 5])\n",
    "print(array_1)\n",
    "type(array_1)\n",
    "\n",
    "# numpy auto-transforms entries: auto-transformation to string\n",
    "array_2 = np.array([1, 2, 'three', 4, 5])\n",
    "print(array_2)\n",
    "\n",
    "# auto-transform to float\n",
    "array_3 = np.array([1, 2, 3.0, 4, 5])\n",
    "print(array_3)"
   ]
  },
  {
   "cell_type": "markdown",
   "metadata": {},
   "source": [
    "### Multi-dimensional arrays"
   ]
  },
  {
   "cell_type": "code",
   "execution_count": 4,
   "metadata": {},
   "outputs": [
    {
     "name": "stdout",
     "output_type": "stream",
     "text": [
      "[[1 2 3]\n",
      " [4 5 6]]\n"
     ]
    },
    {
     "data": {
      "text/plain": [
       "(2, 3)"
      ]
     },
     "execution_count": 4,
     "metadata": {},
     "output_type": "execute_result"
    }
   ],
   "source": [
    "# You can create multi-dimensional arrays using NumPy, i.e. lists of lists --> table w columns and rows\n",
    "\n",
    "array_4 = np.array([[1, 2, 3] , [4, 5, 6]])\n",
    "print(array_4)\n",
    "array_4.shape"
   ]
  },
  {
   "cell_type": "code",
   "execution_count": 6,
   "metadata": {},
   "outputs": [
    {
     "name": "stdout",
     "output_type": "stream",
     "text": [
      "[[1 2]\n",
      " [3 4]\n",
      " [5 6]]\n",
      "---\n",
      "(3, 2)\n"
     ]
    }
   ],
   "source": [
    "# Exercise\n",
    "\n",
    "array_5 = np.array([[1, 2] , [3, 4] , [5, 6]])\n",
    "print(array_5)\n",
    "print('---')\n",
    "print(array_5.shape)"
   ]
  },
  {
   "cell_type": "code",
   "execution_count": 7,
   "metadata": {},
   "outputs": [
    {
     "name": "stdout",
     "output_type": "stream",
     "text": [
      "[[1 2 3]\n",
      " [4 5 6]]\n",
      "[[1 3 5]\n",
      " [2 4 6]]\n"
     ]
    }
   ],
   "source": [
    "# .reshape() and .transpose()\n",
    "\n",
    "print(array_5.reshape(2, 3))\n",
    "print(array_5.transpose())"
   ]
  },
  {
   "cell_type": "code",
   "execution_count": null,
   "metadata": {},
   "outputs": [],
   "source": []
  }
 ],
 "metadata": {
  "kernelspec": {
   "display_name": ".venv",
   "language": "python",
   "name": "python3"
  },
  "language_info": {
   "codemirror_mode": {
    "name": "ipython",
    "version": 3
   },
   "file_extension": ".py",
   "mimetype": "text/x-python",
   "name": "python",
   "nbconvert_exporter": "python",
   "pygments_lexer": "ipython3",
   "version": "3.10.4"
  }
 },
 "nbformat": 4,
 "nbformat_minor": 2
}
