{
 "cells": [
  {
   "cell_type": "markdown",
   "metadata": {},
   "source": [
    "# Random & Sequences"
   ]
  },
  {
   "cell_type": "code",
   "execution_count": 2,
   "metadata": {},
   "outputs": [],
   "source": [
    "import numpy as np"
   ]
  },
  {
   "cell_type": "code",
   "execution_count": 15,
   "metadata": {},
   "outputs": [
    {
     "name": "stdout",
     "output_type": "stream",
     "text": [
      "[1]\n"
     ]
    }
   ],
   "source": [
    "# low = first to INCLUDE\n",
    "# high = first to EXCLUDE\n",
    "# size = how MANY numbers --can pass shape of array, e.g (5, 2)\n",
    "\n",
    "print ( np.random.randint(low=1, high=11, size=1) )"
   ]
  },
  {
   "cell_type": "code",
   "execution_count": 16,
   "metadata": {},
   "outputs": [
    {
     "name": "stdout",
     "output_type": "stream",
     "text": [
      "[ 1 10  4  5  1  1  5  2  8  4]\n",
      "(10,)\n"
     ]
    }
   ],
   "source": [
    "rand_array = np.random.randint(low=1, high=11, size=10)\n",
    "print(rand_array)\n",
    "print(rand_array.shape)"
   ]
  },
  {
   "cell_type": "code",
   "execution_count": 6,
   "metadata": {},
   "outputs": [
    {
     "name": "stdout",
     "output_type": "stream",
     "text": [
      "[[10  9]\n",
      " [10  5]\n",
      " [ 4  7]\n",
      " [ 4  5]\n",
      " [ 4 10]]\n"
     ]
    }
   ],
   "source": [
    "rand_array = rand_array.reshape(5, 2)\n",
    "print(rand_array)"
   ]
  },
  {
   "cell_type": "markdown",
   "metadata": {},
   "source": [
    "> `.seed()` = output still random, but will show same random output when cell run again"
   ]
  },
  {
   "cell_type": "code",
   "execution_count": null,
   "metadata": {},
   "outputs": [
    {
     "name": "stdout",
     "output_type": "stream",
     "text": [
      "[[ 3  3]\n",
      " [ 7  2]\n",
      " [ 4 10]\n",
      " [ 7  2]\n",
      " [ 1  2]]\n"
     ]
    }
   ],
   "source": [
    "np.random.seed(123)\n",
    "\n",
    "rand_array = np.random.randint(low=1, high=11, size=(5, 2))\n",
    "\n",
    "print(rand_array)"
   ]
  },
  {
   "cell_type": "markdown",
   "metadata": {},
   "source": [
    "> `.random.choice()`"
   ]
  },
  {
   "cell_type": "code",
   "execution_count": 22,
   "metadata": {},
   "outputs": [
    {
     "name": "stdout",
     "output_type": "stream",
     "text": [
      "[ 1  2  3  4  5  6  7  8  9 10]\n"
     ]
    }
   ],
   "source": [
    "ordered_array = np.array(range(1, 11))\n",
    "print(ordered_array)"
   ]
  },
  {
   "cell_type": "code",
   "execution_count": 24,
   "metadata": {},
   "outputs": [
    {
     "name": "stdout",
     "output_type": "stream",
     "text": [
      "[10  5  1  2 10]\n",
      "[6 4 5 8 7]\n"
     ]
    }
   ],
   "source": [
    "np.random.seed(10)\n",
    "\n",
    "# randomly picks from list 10 times\n",
    "print(np.random.choice(ordered_array, 5))\n",
    "\n",
    "# randomly picks 10 without 'putting back', e.g. lottery numbers\n",
    "print(np.random.choice(ordered_array, 5, replace=False))"
   ]
  },
  {
   "cell_type": "code",
   "execution_count": null,
   "metadata": {},
   "outputs": [],
   "source": [
    "# Exercise"
   ]
  },
  {
   "cell_type": "markdown",
   "metadata": {},
   "source": [
    "1. Set the random seed to 99\n",
    "2. Generate an array of random integers between 1 and\n",
    "25 named rand _array with 5 rows and 5 columns\n",
    "3. Print rand_array\n",
    "4. Choose and print a random sample of 5 numbers from the second row of rand_array with replacement\n",
    "5. Generate an array of ordered integers from 1 to 25 named ordered_array and reshape to 5 rows and 5\n",
    "colUmns\n",
    "6. Print ordered_array\n",
    "7. Choose and print a random sample of 5 numbers from the third column of ordered _array without replacement"
   ]
  },
  {
   "cell_type": "code",
   "execution_count": 25,
   "metadata": {},
   "outputs": [],
   "source": [
    "# 1. \n",
    "\n",
    "np.random.seed(99)"
   ]
  },
  {
   "cell_type": "code",
   "execution_count": 26,
   "metadata": {},
   "outputs": [
    {
     "name": "stdout",
     "output_type": "stream",
     "text": [
      "[[ 2  4  9 10  9]\n",
      " [19  5  6 21  2]\n",
      " [24  4 24 18  2]\n",
      " [17  7 12 21 24]\n",
      " [ 3  1 13  9  9]]\n"
     ]
    }
   ],
   "source": [
    "# 2. \n",
    "\n",
    "rand_array = np.random.randint(low=1, high=26, size=(5,5))\n",
    "\n",
    "# 3.\n",
    "print(rand_array)"
   ]
  },
  {
   "cell_type": "code",
   "execution_count": 28,
   "metadata": {},
   "outputs": [
    {
     "name": "stdout",
     "output_type": "stream",
     "text": [
      "[ 2  5 21  6 21]\n"
     ]
    }
   ],
   "source": [
    "# 4. \n",
    "\n",
    "print(\n",
    "    np.random.choice(rand_array[1,:], 5)\n",
    ")"
   ]
  },
  {
   "cell_type": "code",
   "execution_count": 30,
   "metadata": {},
   "outputs": [
    {
     "name": "stdout",
     "output_type": "stream",
     "text": [
      "[[ 1  2  3  4  5]\n",
      " [ 6  7  8  9 10]\n",
      " [11 12 13 14 15]\n",
      " [16 17 18 19 20]\n",
      " [21 22 23 24 25]]\n"
     ]
    }
   ],
   "source": [
    "# 5. \n",
    "\n",
    "ordered_array = np.array(range(1,26))\n",
    "ordered_array = ordered_array.reshape(5, 5)\n",
    "\n",
    "# 6.\n",
    "\n",
    "print(ordered_array)"
   ]
  },
  {
   "cell_type": "code",
   "execution_count": 33,
   "metadata": {},
   "outputs": [
    {
     "name": "stdout",
     "output_type": "stream",
     "text": [
      "[23  3 13 18  8]\n"
     ]
    }
   ],
   "source": [
    "# 7.\n",
    "\n",
    "print(\n",
    "    np.random.choice(ordered_array[:,2], 5, replace=False)\n",
    ")"
   ]
  }
 ],
 "metadata": {
  "kernelspec": {
   "display_name": ".venv",
   "language": "python",
   "name": "python3"
  },
  "language_info": {
   "codemirror_mode": {
    "name": "ipython",
    "version": 3
   },
   "file_extension": ".py",
   "mimetype": "text/x-python",
   "name": "python",
   "nbconvert_exporter": "python",
   "pygments_lexer": "ipython3",
   "version": "3.10.4"
  }
 },
 "nbformat": 4,
 "nbformat_minor": 2
}
