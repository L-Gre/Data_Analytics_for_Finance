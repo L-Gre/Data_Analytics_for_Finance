{
 "cells": [
  {
   "cell_type": "code",
   "execution_count": null,
   "metadata": {},
   "outputs": [],
   "source": [
    "from libraries import *\n",
    "\n",
    "input_train = pd.read_pickle('input_train.pkl')\n",
    "input_test = pd.read_pickle('input_test.pkl')\n",
    "target_train = pd.read_pickle('target_train.pkl')\n",
    "target_test = pd.read_pickle('target_test.pkl')\n",
    "hyperparameters = load_from_pickle('hyperparameters.pkl')\n",
    "pipelines = load_from_pickle('pipelines.pkl')\n",
    "\n",
    "l1"
   ]
  },
  {
   "cell_type": "markdown",
   "metadata": {},
   "source": [
    "# Model Evaluation\n",
    "\n",
    "R**2 asks the question how much of the variance in the predicted result can be explained by the input variables? \\\n",
    "This is not the question asked in a binary classifier. \\\n",
    "To mark an email as spam with 99% accuaracy is not helpful, because even fewer emails are spam. \\\n",
    "The question is 'how good is this model at distinguishing a positive from a negative case?' \\\n",
    "This value can be presented as AUC, area under the curve that indicates ratio of true positive to false positives, for example 0.9645"
   ]
  },
  {
   "cell_type": "code",
   "execution_count": null,
   "metadata": {},
   "outputs": [],
   "source": [
    "from sklearn.metrics import confusion_matrix\n",
    "\n",
    "for model_name in models:\n",
    "    print(model_name)\n",
    "    pred = models[model_name].predict(input_test)\n",
    "    print(confusion_matrix(target_test, pred))\n",
    "    print('---')"
   ]
  },
  {
   "cell_type": "code",
   "execution_count": null,
   "metadata": {},
   "outputs": [],
   "source": [
    "# Area under the curve\n",
    "\n",
    "from sklearn.metrics import roc_curve, auc\n",
    "\n",
    "for model_name in models:\n",
    "    prod = models[model_name].predict(input_test)\n",
    "    fpr, tpr, thresholds = roc_curve(target_test, prod)\n",
    "    print(model_name)\n",
    "    print('AUROC = ', round(auc(fpr,tpr), 4))\n",
    "    print('---')"
   ]
  }
 ],
 "metadata": {
  "language_info": {
   "name": "python"
  }
 },
 "nbformat": 4,
 "nbformat_minor": 2
}
