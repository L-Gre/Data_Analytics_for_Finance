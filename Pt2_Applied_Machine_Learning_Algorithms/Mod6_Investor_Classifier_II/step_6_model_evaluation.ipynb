{
 "cells": [
  {
   "cell_type": "code",
   "execution_count": 1,
   "metadata": {},
   "outputs": [],
   "source": [
    "from libraries import *\n",
    "\n",
    "input_train = pd.read_pickle('input_train.pkl')\n",
    "input_test = pd.read_pickle('input_test.pkl')\n",
    "target_train = pd.read_pickle('target_train.pkl')\n",
    "target_test = pd.read_pickle('target_test.pkl')\n",
    "hyperparameters = load_from_pickle('hyperparameters.pkl')\n",
    "pipelines = load_from_pickle('pipelines.pkl')\n",
    "models = load_from_pickle('models.pkl')"
   ]
  },
  {
   "cell_type": "markdown",
   "metadata": {},
   "source": [
    "# Model Evaluation\n",
    "\n",
    "R**2 asks the question how much of the variance in the predicted result can be explained by the input variables? \\\n",
    "This is not the question asked in a binary classifier. \\\n",
    "To mark an email as spam with 99% accuaracy is not helpful, because even fewer emails are spam. \\\n",
    "The question is 'how good is this model at distinguishing a positive from a negative case?' \\\n",
    "This value can be presented as AUC, area under the curve that indicates ratio of true positive to false positives, for example 0.9645"
   ]
  },
  {
   "cell_type": "code",
   "execution_count": 2,
   "metadata": {},
   "outputs": [
    {
     "name": "stdout",
     "output_type": "stream",
     "text": [
      "l1\n",
      "[[1124   22]\n",
      " [  23  278]]\n",
      "---\n",
      "l2\n",
      "[[1123   23]\n",
      " [  23  278]]\n",
      "---\n",
      "rf\n",
      "[[1137    9]\n",
      " [  22  279]]\n",
      "---\n",
      "gb\n",
      "[[1136   10]\n",
      " [  16  285]]\n",
      "---\n"
     ]
    }
   ],
   "source": [
    "from sklearn.metrics import confusion_matrix\n",
    "\n",
    "for model_name in models:\n",
    "    print(model_name)\n",
    "    pred = models[model_name].predict(input_test)\n",
    "    print(confusion_matrix(target_test, pred))\n",
    "    print('---')"
   ]
  },
  {
   "cell_type": "code",
   "execution_count": 3,
   "metadata": {},
   "outputs": [
    {
     "name": "stdout",
     "output_type": "stream",
     "text": [
      "l1\n",
      "AUROC =  0.9522\n",
      "---\n",
      "l2\n",
      "AUROC =  0.9518\n",
      "---\n",
      "rf\n",
      "AUROC =  0.9595\n",
      "---\n",
      "gb\n",
      "AUROC =  0.9691\n",
      "---\n"
     ]
    }
   ],
   "source": [
    "# Area under the curve\n",
    "\n",
    "from sklearn.metrics import roc_curve, auc\n",
    "\n",
    "for model_name in models:\n",
    "    prod = models[model_name].predict(input_test)\n",
    "    fpr, tpr, thresholds = roc_curve(target_test, prod)\n",
    "    print(model_name)\n",
    "    print('AUROC = ', round(auc(fpr,tpr), 4))\n",
    "    print('---')"
   ]
  }
 ],
 "metadata": {
  "kernelspec": {
   "display_name": "base",
   "language": "python",
   "name": "python3"
  },
  "language_info": {
   "codemirror_mode": {
    "name": "ipython",
    "version": 3
   },
   "file_extension": ".py",
   "mimetype": "text/x-python",
   "name": "python",
   "nbconvert_exporter": "python",
   "pygments_lexer": "ipython3",
   "version": "3.12.7"
  }
 },
 "nbformat": 4,
 "nbformat_minor": 2
}
