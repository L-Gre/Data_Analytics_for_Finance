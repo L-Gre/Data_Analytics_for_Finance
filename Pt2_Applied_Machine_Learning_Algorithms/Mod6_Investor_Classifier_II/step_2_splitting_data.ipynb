{
 "cells": [
  {
   "cell_type": "code",
   "execution_count": 6,
   "metadata": {},
   "outputs": [],
   "source": [
    "# import libraries\n",
    "from libraries import *\n",
    "\n",
    "# import data\n",
    "investor_data = pd.read_pickle('investor_data_step_1.pkl')"
   ]
  },
  {
   "cell_type": "markdown",
   "metadata": {},
   "source": [
    "# Splitting Data\n",
    "\n",
    "Create `target` and `inputs` datasets"
   ]
  },
  {
   "cell_type": "code",
   "execution_count": 7,
   "metadata": {},
   "outputs": [],
   "source": [
    "target = investor_data['commit_Decline']\n",
    "inputs = investor_data.drop('commit_Decline', axis=1)"
   ]
  },
  {
   "cell_type": "code",
   "execution_count": 8,
   "metadata": {},
   "outputs": [],
   "source": [
    "# target.to_pickle(os.path.join(project_path, 'target.pkl'))\n",
    "# inputs.to_pickle(os.path.join(project_path, 'inputs.pkl'))"
   ]
  },
  {
   "cell_type": "markdown",
   "metadata": {},
   "source": [
    "# Stratified Random Sampling"
   ]
  },
  {
   "cell_type": "code",
   "execution_count": 9,
   "metadata": {},
   "outputs": [
    {
     "data": {
      "image/png": "[encoded data removed]",
      "text/plain": [
       "<Figure size 640x480 with 1 Axes>"
      ]
     },
     "metadata": {},
     "output_type": "display_data"
    }
   ],
   "source": [
    "# check whether target variable is balanced (if categorical)\n",
    "# if not, apply proportional a.k.a. stratified random sampling\n",
    "\n",
    "\n",
    "sns.countplot(y='commit_Decline', data=investor_data)\n",
    "plt.show()"
   ]
  },
  {
   "cell_type": "code",
   "execution_count": 10,
   "metadata": {},
   "outputs": [],
   "source": [
    "from sklearn.model_selection import train_test_split\n",
    "\n",
    "split_list = train_test_split(inputs, target, test_size= 0.2, random_state= 1, stratify= investor_data.commit_Decline)"
   ]
  },
  {
   "cell_type": "code",
   "execution_count": 11,
   "metadata": {},
   "outputs": [
    {
     "name": "stdout",
     "output_type": "stream",
     "text": [
      "(5786, 18)\n",
      "(1447, 18)\n",
      "(5786,)\n",
      "(1447,)\n"
     ]
    }
   ],
   "source": [
    "# unpack split list\n",
    "input_train, input_test, target_train, target_test = split_list\n",
    "\n",
    "# validate split\n",
    "for dataset in [input_train, input_test, target_train, target_test]:\n",
    "    print(dataset.shape)"
   ]
  },
  {
   "cell_type": "code",
   "execution_count": 12,
   "metadata": {},
   "outputs": [],
   "source": [
    "input_train.to_pickle('input_train.pkl')\n",
    "input_test.to_pickle('input_test.pkl')\n",
    "target_train.to_pickle('target_train.pkl')\n",
    "target_test.to_pickle('target_test.pkl')"
   ]
  }
 ],
 "metadata": {
  "kernelspec": {
   "display_name": "base",
   "language": "python",
   "name": "python3"
  },
  "language_info": {
   "codemirror_mode": {
    "name": "ipython",
    "version": 3
   },
   "file_extension": ".py",
   "mimetype": "text/x-python",
   "name": "python",
   "nbconvert_exporter": "python",
   "pygments_lexer": "ipython3",
   "version": "3.12.7"
  }
 },
 "nbformat": 4,
 "nbformat_minor": 2
}
