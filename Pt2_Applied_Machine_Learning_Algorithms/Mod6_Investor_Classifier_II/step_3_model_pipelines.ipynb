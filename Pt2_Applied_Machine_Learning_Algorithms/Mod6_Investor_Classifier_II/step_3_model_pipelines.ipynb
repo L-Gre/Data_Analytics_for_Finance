{
 "cells": [
  {
   "cell_type": "code",
   "execution_count": 1,
   "metadata": {},
   "outputs": [],
   "source": [
    "from libraries import *\n",
    "\n",
    "input_train = pd.read_pickle('input_train.pkl')\n",
    "input_test = pd.read_pickle('input_test.pkl')\n",
    "target_train = pd.read_pickle('target_train.pkl')\n",
    "target_test = pd.read_pickle('target_test')"
   ]
  },
  {
   "cell_type": "markdown",
   "metadata": {},
   "source": [
    "# Model Pipelines"
   ]
  },
  {
   "cell_type": "code",
   "execution_count": null,
   "metadata": {},
   "outputs": [],
   "source": [
    "from sklearn.pipeline import make_pipeline # to set up the steps you follow with each model\n",
    "from sklearn.preprocessing import StandardScaler # to undo the influence of magnitude of large values\n",
    "\n",
    "from sklearn.linear_model import LogisticRegression # L1 and L2\n",
    "from sklearn.ensemble import RandomForestClassifier # rf\n",
    "from sklearn.ensemble import GradientBoostingClassifier # gb"
   ]
  },
  {
   "cell_type": "code",
   "execution_count": null,
   "metadata": {},
   "outputs": [],
   "source": [
    "pipelines = {\n",
    "    'l1' : make_pipeline(StandardScaler(), LogisticRegression(penalty= 'l1', random_state= 1, solver='liblinear')),\n",
    "    'l2' : make_pipeline(StandardScaler(), LogisticRegression(penalty= 'l2', random_state= 1, solver='liblinear')),\n",
    "    'rf' : make_pipeline(StandardScaler(), RandomForestClassifier(random_state= 1)),\n",
    "    'gb' : make_pipeline(StandardScaler(), GradientBoostingClassifier(random_state= 1))\n",
    "}"
   ]
  },
  {
   "cell_type": "code",
   "execution_count": null,
   "metadata": {},
   "outputs": [
    {
     "name": "stdout",
     "output_type": "stream",
     "text": [
      "l1 <class 'sklearn.pipeline.Pipeline'>\n",
      "l2 <class 'sklearn.pipeline.Pipeline'>\n",
      "rf <class 'sklearn.pipeline.Pipeline'>\n",
      "gb <class 'sklearn.pipeline.Pipeline'>\n"
     ]
    }
   ],
   "source": [
    "# verify pipeline\n",
    "\n",
    "for key, value in pipelines.items():\n",
    "    print(key, type(value))"
   ]
  },
  {
   "cell_type": "markdown",
   "metadata": {},
   "source": [
    "# Hyperparameter Tuning"
   ]
  },
  {
   "cell_type": "code",
   "execution_count": null,
   "metadata": {},
   "outputs": [],
   "source": [
    "# create hyperparameter grids\n",
    "\n",
    "l1_hyperparameters = {\n",
    "    'logisticregression__C' : [0.1, 1, 10]\n",
    "}\n",
    "\n",
    "l2_hyperparameters = {\n",
    "    'logisticregression__C' : [0.1, 1, 10]\n",
    "}\n",
    "\n",
    "rf_hyperparameters = {\n",
    "    'randomforestclassifier__n_estimators' : [100, 200],\n",
    "    'randomforestclassifier__max_features' : [None, 0.3, 0.6]\n",
    "}\n",
    "\n",
    "gb_hyperparameters = {\n",
    "    'gradientboostingclassifier__n_estimators' : [100, 200],\n",
    "    'gradientboostingclassifier__learning_rate' : [0.05, 0.1, 0.2],\n",
    "    'gradientboostingclassifier__max_depth' : [1, 3, 5]\n",
    "}"
   ]
  },
  {
   "cell_type": "code",
   "execution_count": null,
   "metadata": {},
   "outputs": [],
   "source": [
    "hyperparameters = {\n",
    "    'l1' : l1_hyperparameters,\n",
    "    'l2' : l2_hyperparameters,\n",
    "    'rf' : rf_hyperparameters,\n",
    "    'gb' : gb_hyperparameters\n",
    "}"
   ]
  },
  {
   "cell_type": "code",
   "execution_count": null,
   "metadata": {},
   "outputs": [
    {
     "name": "stdout",
     "output_type": "stream",
     "text": [
      "Key: l1 Value: {'logisticregression__C': [0.1, 1, 10]}\n",
      "Key: l2 Value: {'logisticregression__C': [0.1, 1, 10]}\n",
      "Key: rf Value: {'randomforestclassifier__n_estimators': [100, 200], 'randomforestclassifier__max_features': [None, 0.3, 0.6]}\n",
      "Key: gb Value: {'gradientboostingclassifier__n_estimators': [100, 200], 'gradientboostingclassifier__learning_rate': [0.05, 0.1, 0.2], 'gradientboostingclassifier__max_depth': [1, 3, 5]}\n"
     ]
    }
   ],
   "source": [
    "for key, value in hyperparameters.items():\n",
    "    print('Key:', key, 'Value:', value)"
   ]
  },
  {
   "cell_type": "code",
   "execution_count": null,
   "metadata": {},
   "outputs": [
    {
     "name": "stdout",
     "output_type": "stream",
     "text": [
      "l1 was found, and it is a grid.\n",
      "l2 was found, and it is a grid.\n",
      "rf was found, and it is a grid.\n",
      "gb was found, and it is a grid.\n"
     ]
    }
   ],
   "source": [
    "# verify HPG were successfully created\n",
    "\n",
    "for key in ['l1', 'l2', 'rf', 'gb']:\n",
    "    if key in hyperparameters:\n",
    "        if type(hyperparameters[key]) is dict :\n",
    "            print(key, 'was found, and it is a grid.')\n",
    "        else:\n",
    "            print(key, 'was found, but is not a grid.')\n",
    "    else:\n",
    "        print(key, 'was not found.')\n"
   ]
  },
  {
   "cell_type": "markdown",
   "metadata": {},
   "source": [
    "# Cross Validation"
   ]
  },
  {
   "cell_type": "code",
   "execution_count": null,
   "metadata": {},
   "outputs": [],
   "source": [
    "# create untrained model\n",
    "# train model and tune hyperparameters\n",
    "# make predictions\n",
    "# compare actual target values"
   ]
  },
  {
   "cell_type": "code",
   "execution_count": null,
   "metadata": {},
   "outputs": [],
   "source": [
    "from sklearn.model_selection import GridSearchCV\n",
    "\n",
    "# GridSearchCV finds the best hyperparameters for each model"
   ]
  },
  {
   "cell_type": "markdown",
   "metadata": {},
   "source": [
    "## Setting up untrained models"
   ]
  },
  {
   "cell_type": "code",
   "execution_count": null,
   "metadata": {},
   "outputs": [
    {
     "name": "stdout",
     "output_type": "stream",
     "text": [
      "dict_keys(['l1', 'l2', 'rf', 'gb'])\n"
     ]
    }
   ],
   "source": [
    "# create an empty dictionary named models\n",
    "\n",
    "models = {}\n",
    "\n",
    "for key in pipelines.keys():\n",
    "    models[key] = GridSearchCV(pipelines[key], hyperparameters[key], cv= 5)\n",
    "\n",
    "print(models.keys())"
   ]
  },
  {
   "cell_type": "markdown",
   "metadata": {},
   "source": [
    "# Train models"
   ]
  },
  {
   "cell_type": "code",
   "execution_count": null,
   "metadata": {},
   "outputs": [
    {
     "name": "stdout",
     "output_type": "stream",
     "text": [
      "l1 is trained and tuned.\n",
      "l2 is trained and tuned.\n",
      "rf is trained and tuned.\n",
      "gb is trained and tuned.\n"
     ]
    }
   ],
   "source": [
    "for model_name in models.keys():\n",
    "    models[model_name].fit(input_train, target_train)\n",
    "    print(model_name, 'is trained and tuned.')"
   ]
  },
  {
   "cell_type": "markdown",
   "metadata": {},
   "source": [
    "# Model Evaluation\n",
    "\n",
    "R**2 asks the question how much of the variance in the predicted result can be explained by the input variables? \\\n",
    "This is not the question asked in a binary classifier. \\\n",
    "To mark an email as spam with 99% accuaracy is not helpful, because even fewer emails are spam. \\\n",
    "The question is 'how good is this model at distinguishing a positive from a negative case?' \\\n",
    "This value can be presented as AUC, area under the curve that indicates ratio of true positive to false positives, for example 0.9645"
   ]
  },
  {
   "cell_type": "code",
   "execution_count": null,
   "metadata": {},
   "outputs": [
    {
     "name": "stdout",
     "output_type": "stream",
     "text": [
      "l1\n",
      "[[1124   22]\n",
      " [  23  278]]\n",
      "---\n",
      "l2\n",
      "[[1123   23]\n",
      " [  23  278]]\n",
      "---\n",
      "rf\n",
      "[[1137    9]\n",
      " [  22  279]]\n",
      "---\n",
      "gb\n",
      "[[1136   10]\n",
      " [  16  285]]\n",
      "---\n"
     ]
    }
   ],
   "source": [
    "from sklearn.metrics import confusion_matrix\n",
    "\n",
    "for model_name in models:\n",
    "    print(model_name)\n",
    "    pred = models[model_name].predict(input_test)\n",
    "    print(confusion_matrix(target_test, pred))\n",
    "    print('---')"
   ]
  },
  {
   "cell_type": "code",
   "execution_count": null,
   "metadata": {},
   "outputs": [
    {
     "name": "stdout",
     "output_type": "stream",
     "text": [
      "l1\n",
      "AUROC =  0.9522\n",
      "---\n",
      "l2\n",
      "AUROC =  0.9518\n",
      "---\n",
      "rf\n",
      "AUROC =  0.9595\n",
      "---\n",
      "gb\n",
      "AUROC =  0.9691\n",
      "---\n"
     ]
    }
   ],
   "source": [
    "# Area under the curve\n",
    "\n",
    "from sklearn.metrics import roc_curve, auc\n",
    "\n",
    "for model_name in models:\n",
    "    prod = models[model_name].predict(input_test)\n",
    "    fpr, tpr, thresholds = roc_curve(target_test, prod)\n",
    "    print(model_name)\n",
    "    print('AUROC = ', round(auc(fpr,tpr), 4))\n",
    "    print('---')"
   ]
  }
 ],
 "metadata": {
  "kernelspec": {
   "display_name": ".venv",
   "language": "python",
   "name": "python3"
  },
  "language_info": {
   "codemirror_mode": {
    "name": "ipython",
    "version": 3
   },
   "file_extension": ".py",
   "mimetype": "text/x-python",
   "name": "python",
   "nbconvert_exporter": "python",
   "pygments_lexer": "ipython3",
   "version": "3.10.4"
  }
 },
 "nbformat": 4,
 "nbformat_minor": 2
}
