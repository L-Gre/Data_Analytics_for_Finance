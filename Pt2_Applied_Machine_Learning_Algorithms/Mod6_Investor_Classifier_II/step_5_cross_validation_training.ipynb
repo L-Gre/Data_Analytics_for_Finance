{
 "cells": [
  {
   "cell_type": "code",
   "execution_count": 2,
   "metadata": {},
   "outputs": [],
   "source": [
    "from libraries import *\n",
    "\n",
    "input_train = pd.read_pickle('input_train.pkl')\n",
    "input_test = pd.read_pickle('input_test.pkl')\n",
    "target_train = pd.read_pickle('target_train.pkl')\n",
    "target_test = pd.read_pickle('target_test.pkl')\n",
    "hyperparameters = load_from_pickle('hyperparameters.pkl')\n",
    "pipelines = load_from_pickle('pipelines.pkl')"
   ]
  },
  {
   "cell_type": "markdown",
   "metadata": {},
   "source": [
    "# Cross Validation"
   ]
  },
  {
   "cell_type": "code",
   "execution_count": 3,
   "metadata": {},
   "outputs": [],
   "source": [
    "# create untrained model\n",
    "# train model and tune hyperparameters\n",
    "# make predictions\n",
    "# compare actual target values"
   ]
  },
  {
   "cell_type": "code",
   "execution_count": 4,
   "metadata": {},
   "outputs": [],
   "source": [
    "from sklearn.model_selection import GridSearchCV\n",
    "\n",
    "# GridSearchCV finds the best hyperparameters for each model"
   ]
  },
  {
   "cell_type": "markdown",
   "metadata": {},
   "source": [
    "## Setting up untrained models"
   ]
  },
  {
   "cell_type": "code",
   "execution_count": 5,
   "metadata": {},
   "outputs": [
    {
     "name": "stdout",
     "output_type": "stream",
     "text": [
      "dict_keys(['l1', 'l2', 'rf', 'gb'])\n"
     ]
    }
   ],
   "source": [
    "# create an empty dictionary named models\n",
    "\n",
    "models = {}\n",
    "\n",
    "for key in pipelines.keys():\n",
    "    models[key] = GridSearchCV(pipelines[key], hyperparameters[key], cv= 5)\n",
    "\n",
    "print(models.keys())"
   ]
  },
  {
   "cell_type": "markdown",
   "metadata": {},
   "source": [
    "# Train models"
   ]
  },
  {
   "cell_type": "code",
   "execution_count": 6,
   "metadata": {},
   "outputs": [
    {
     "name": "stdout",
     "output_type": "stream",
     "text": [
      "l1 is trained and tuned.\n",
      "l2 is trained and tuned.\n",
      "rf is trained and tuned.\n",
      "gb is trained and tuned.\n"
     ]
    }
   ],
   "source": [
    "for model_name in models.keys():\n",
    "    models[model_name].fit(input_train, target_train)\n",
    "    print(model_name, 'is trained and tuned.')"
   ]
  },
  {
   "cell_type": "code",
   "execution_count": 7,
   "metadata": {},
   "outputs": [],
   "source": [
    "save_to_pickle(models, 'models.pkl')"
   ]
  }
 ],
 "metadata": {
  "kernelspec": {
   "display_name": "base",
   "language": "python",
   "name": "python3"
  },
  "language_info": {
   "codemirror_mode": {
    "name": "ipython",
    "version": 3
   },
   "file_extension": ".py",
   "mimetype": "text/x-python",
   "name": "python",
   "nbconvert_exporter": "python",
   "pygments_lexer": "ipython3",
   "version": "3.12.7"
  }
 },
 "nbformat": 4,
 "nbformat_minor": 2
}
