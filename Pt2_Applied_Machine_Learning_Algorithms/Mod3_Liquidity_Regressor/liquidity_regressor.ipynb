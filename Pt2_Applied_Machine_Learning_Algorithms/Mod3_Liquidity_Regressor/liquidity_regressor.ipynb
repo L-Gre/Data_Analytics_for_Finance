{
 "cells": [
  {
   "cell_type": "markdown",
   "metadata": {},
   "source": [
    "ML PROCESS\n",
    "==========\n",
    "\n",
    "\n",
    "Terminology\n",
    "-----------\n",
    "> \\\n",
    "> `Target variable` (a.k.a. `dependent` variable, `output` variable, `label`)\n",
    ">   * what you are trying to predict or estimate\n",
    ">\n",
    "> `Input variable` (a.k.a. `independent` variable, `explanatory` variable, `predictor`, `feature`)\n",
    ">   * input variables or features that influence the dependent variable\n",
    ">       \n",
    "\n",
    "How the model learns (training vs. test)\n",
    "----------------------------------------\n",
    "\n",
    "### Splitting Data\n",
    "* For a ML model to learn, you need to `split` your data into a `training set` and a `test set`.\n",
    "    * example data set: \n",
    "        * 1 target variable (e.g. liquidity)\n",
    "        * 5 explanatory variables (e.g. market cap, dept, ebitda, etc.)\n",
    "        * 100,000 observations\n",
    "\n",
    "### Training\n",
    "* When `'training'` the model, the model will review the given `'characteristics'` (input variables) present AND the `'thing'` (target variable) you're trying to predict at a later stage\n",
    "    * \"When the Liquidity (target variable) value was 3884, 'market cap' was 41645, 'total debt' was 9040, ... etc.\n",
    "* You train the model on `~80%` of your available data (a.k.a. `output variable **AND** input variables`)\n",
    "    * You show it 80,000 `output:input pairs`, i.e. liquidity and values of 5 input variables x80,000\n",
    "\n",
    "### Testing\n",
    "* Once complete, the model should now be able to make `predictions` on what the `target variable SHOULD be`, given a set of 'characteristics' (input variables) \n",
    "    * You show the model another observation of the 5 input variables, it should now be able to predict liquidity (the output value)\n",
    "* You can `'test'` this by feeding the model the remaining `~20%` of characteristics (input variables) you previously reserved and recording the output value the model predicts\n",
    "* You can now compare the answers the model gave (the values it predicted) to the actual remaining ~20% answers (output values) you previously reserved (which the model hasn't seen, so doesn't know this answer)\n",
    "* This will determine the models `accuracy`\n",
    "\n",
    "\n",
    "Model Competition\n",
    "-----------------\n",
    "\n",
    "> May the best model class win!\n",
    "\n",
    "Prior to competition, define process (a.k.a. `model pipeline`!) repeated for each `model class`:\n",
    "\n",
    "Liquidity regressor algorithm = 2-step pipeline!\n",
    "1. `standardise` training data to common scale\n",
    "2. `apply model class` to training data w/ a given random state\n",
    "\n",
    "> N.B. Standardising data to common scale prevents MLA from overemphasising input features with larger scale. Without this step, input features with larger values could have greater influence on your model!"
   ]
  },
  {
   "cell_type": "code",
   "execution_count": 1,
   "metadata": {},
   "outputs": [],
   "source": [
    "# import libraries\n",
    "\n",
    "import numpy as np\n",
    "import pandas as pd\n",
    "from matplotlib import pyplot as plt\n",
    "import seaborn as sns\n",
    "from sklearn.model_selection import train_test_split\n",
    "\n",
    "from dotenv import load_dotenv\n",
    "import os\n",
    "\n",
    "# Load environment variables from .env file\n",
    "load_dotenv()\n",
    "\n",
    "# Access the PROJECT_PATH variable\n",
    "project_path = os.getenv(\"PROJECT_PATH\")"
   ]
  },
  {
   "cell_type": "code",
   "execution_count": 2,
   "metadata": {},
   "outputs": [
    {
     "data": {
      "text/html": [
       "<div>\n",
       "<style scoped>\n",
       "    .dataframe tbody tr th:only-of-type {\n",
       "        vertical-align: middle;\n",
       "    }\n",
       "\n",
       "    .dataframe tbody tr th {\n",
       "        vertical-align: top;\n",
       "    }\n",
       "\n",
       "    .dataframe thead th {\n",
       "        text-align: right;\n",
       "    }\n",
       "</style>\n",
       "<table border=\"1\" class=\"dataframe\">\n",
       "  <thead>\n",
       "    <tr style=\"text-align: right;\">\n",
       "      <th></th>\n",
       "      <th>available_liquidity</th>\n",
       "      <th>sp_score</th>\n",
       "      <th>market_cap</th>\n",
       "      <th>total_debt</th>\n",
       "      <th>ltm_capex</th>\n",
       "      <th>ltm_ebitda</th>\n",
       "      <th>ltm_fcf</th>\n",
       "      <th>ltm_revenue</th>\n",
       "    </tr>\n",
       "  </thead>\n",
       "  <tbody>\n",
       "    <tr>\n",
       "      <th>0</th>\n",
       "      <td>28694.04271</td>\n",
       "      <td>2</td>\n",
       "      <td>54856.1961</td>\n",
       "      <td>84628.0</td>\n",
       "      <td>-9262.0</td>\n",
       "      <td>21387.00032</td>\n",
       "      <td>9488.0</td>\n",
       "      <td>170315.0</td>\n",
       "    </tr>\n",
       "    <tr>\n",
       "      <th>1</th>\n",
       "      <td>24784.00051</td>\n",
       "      <td>7</td>\n",
       "      <td>209150.6401</td>\n",
       "      <td>57909.0</td>\n",
       "      <td>-2021.0</td>\n",
       "      <td>15161.00019</td>\n",
       "      <td>12105.0</td>\n",
       "      <td>37727.0</td>\n",
       "    </tr>\n",
       "    <tr>\n",
       "      <th>2</th>\n",
       "      <td>24142.00013</td>\n",
       "      <td>6</td>\n",
       "      <td>180108.3453</td>\n",
       "      <td>32970.0</td>\n",
       "      <td>-1817.0</td>\n",
       "      <td>15818.99981</td>\n",
       "      <td>12604.0</td>\n",
       "      <td>192592.0</td>\n",
       "    </tr>\n",
       "  </tbody>\n",
       "</table>\n",
       "</div>"
      ],
      "text/plain": [
       "   available_liquidity  sp_score   market_cap  total_debt  ltm_capex  \\\n",
       "0          28694.04271         2   54856.1961     84628.0    -9262.0   \n",
       "1          24784.00051         7  209150.6401     57909.0    -2021.0   \n",
       "2          24142.00013         6  180108.3453     32970.0    -1817.0   \n",
       "\n",
       "    ltm_ebitda  ltm_fcf  ltm_revenue  \n",
       "0  21387.00032   9488.0     170315.0  \n",
       "1  15161.00019  12105.0      37727.0  \n",
       "2  15818.99981  12604.0     192592.0  "
      ]
     },
     "execution_count": 2,
     "metadata": {},
     "output_type": "execute_result"
    }
   ],
   "source": [
    "# Load data\n",
    "\n",
    "df_liquidity_data = pd.read_csv(os.path.join(project_path, 'liquidity_data.csv'))\n",
    "df_liquidity_data.head(3)"
   ]
  },
  {
   "cell_type": "code",
   "execution_count": 3,
   "metadata": {},
   "outputs": [
    {
     "data": {
      "text/html": [
       "<div>\n",
       "<style scoped>\n",
       "    .dataframe tbody tr th:only-of-type {\n",
       "        vertical-align: middle;\n",
       "    }\n",
       "\n",
       "    .dataframe tbody tr th {\n",
       "        vertical-align: top;\n",
       "    }\n",
       "\n",
       "    .dataframe thead th {\n",
       "        text-align: right;\n",
       "    }\n",
       "</style>\n",
       "<table border=\"1\" class=\"dataframe\">\n",
       "  <thead>\n",
       "    <tr style=\"text-align: right;\">\n",
       "      <th></th>\n",
       "      <th>available_liquidity</th>\n",
       "      <th>sp_score</th>\n",
       "      <th>market_cap</th>\n",
       "      <th>total_debt</th>\n",
       "      <th>ltm_capex</th>\n",
       "      <th>ltm_ebitda</th>\n",
       "      <th>ltm_fcf</th>\n",
       "      <th>ltm_revenue</th>\n",
       "    </tr>\n",
       "  </thead>\n",
       "  <tbody>\n",
       "    <tr>\n",
       "      <th>count</th>\n",
       "      <td>802.000000</td>\n",
       "      <td>802.000000</td>\n",
       "      <td>802.000000</td>\n",
       "      <td>802.000000</td>\n",
       "      <td>802.00000</td>\n",
       "      <td>802.000000</td>\n",
       "      <td>802.000000</td>\n",
       "      <td>802.000000</td>\n",
       "    </tr>\n",
       "    <tr>\n",
       "      <th>mean</th>\n",
       "      <td>3884.952199</td>\n",
       "      <td>3.017456</td>\n",
       "      <td>41645.089870</td>\n",
       "      <td>9040.720589</td>\n",
       "      <td>-1200.91799</td>\n",
       "      <td>3455.752891</td>\n",
       "      <td>1772.335973</td>\n",
       "      <td>20420.383638</td>\n",
       "    </tr>\n",
       "    <tr>\n",
       "      <th>std</th>\n",
       "      <td>4267.893247</td>\n",
       "      <td>1.851461</td>\n",
       "      <td>74046.522440</td>\n",
       "      <td>12112.161513</td>\n",
       "      <td>2066.29159</td>\n",
       "      <td>5679.466199</td>\n",
       "      <td>4207.345101</td>\n",
       "      <td>39483.422972</td>\n",
       "    </tr>\n",
       "    <tr>\n",
       "      <th>min</th>\n",
       "      <td>267.000000</td>\n",
       "      <td>0.000000</td>\n",
       "      <td>4282.810112</td>\n",
       "      <td>0.000000</td>\n",
       "      <td>-15858.00000</td>\n",
       "      <td>-6530.000000</td>\n",
       "      <td>-4888.000000</td>\n",
       "      <td>503.586000</td>\n",
       "    </tr>\n",
       "    <tr>\n",
       "      <th>25%</th>\n",
       "      <td>1288.328992</td>\n",
       "      <td>2.000000</td>\n",
       "      <td>10082.091010</td>\n",
       "      <td>2125.297000</td>\n",
       "      <td>-1241.00000</td>\n",
       "      <td>936.200000</td>\n",
       "      <td>232.923000</td>\n",
       "      <td>3791.525000</td>\n",
       "    </tr>\n",
       "    <tr>\n",
       "      <th>50%</th>\n",
       "      <td>2395.700000</td>\n",
       "      <td>3.000000</td>\n",
       "      <td>19349.403650</td>\n",
       "      <td>4562.000000</td>\n",
       "      <td>-512.00000</td>\n",
       "      <td>1695.700032</td>\n",
       "      <td>682.110000</td>\n",
       "      <td>8587.166000</td>\n",
       "    </tr>\n",
       "    <tr>\n",
       "      <th>75%</th>\n",
       "      <td>4512.458596</td>\n",
       "      <td>4.000000</td>\n",
       "      <td>41154.826240</td>\n",
       "      <td>10478.000000</td>\n",
       "      <td>-190.00000</td>\n",
       "      <td>3706.000000</td>\n",
       "      <td>1788.000000</td>\n",
       "      <td>18816.000000</td>\n",
       "    </tr>\n",
       "    <tr>\n",
       "      <th>max</th>\n",
       "      <td>28694.042710</td>\n",
       "      <td>10.000000</td>\n",
       "      <td>777070.706700</td>\n",
       "      <td>87032.000000</td>\n",
       "      <td>-5.04900</td>\n",
       "      <td>69715.000320</td>\n",
       "      <td>53244.000000</td>\n",
       "      <td>487511.000000</td>\n",
       "    </tr>\n",
       "  </tbody>\n",
       "</table>\n",
       "</div>"
      ],
      "text/plain": [
       "       available_liquidity    sp_score     market_cap    total_debt  \\\n",
       "count           802.000000  802.000000     802.000000    802.000000   \n",
       "mean           3884.952199    3.017456   41645.089870   9040.720589   \n",
       "std            4267.893247    1.851461   74046.522440  12112.161513   \n",
       "min             267.000000    0.000000    4282.810112      0.000000   \n",
       "25%            1288.328992    2.000000   10082.091010   2125.297000   \n",
       "50%            2395.700000    3.000000   19349.403650   4562.000000   \n",
       "75%            4512.458596    4.000000   41154.826240  10478.000000   \n",
       "max           28694.042710   10.000000  777070.706700  87032.000000   \n",
       "\n",
       "         ltm_capex    ltm_ebitda       ltm_fcf    ltm_revenue  \n",
       "count    802.00000    802.000000    802.000000     802.000000  \n",
       "mean   -1200.91799   3455.752891   1772.335973   20420.383638  \n",
       "std     2066.29159   5679.466199   4207.345101   39483.422972  \n",
       "min   -15858.00000  -6530.000000  -4888.000000     503.586000  \n",
       "25%    -1241.00000    936.200000    232.923000    3791.525000  \n",
       "50%     -512.00000   1695.700032    682.110000    8587.166000  \n",
       "75%     -190.00000   3706.000000   1788.000000   18816.000000  \n",
       "max       -5.04900  69715.000320  53244.000000  487511.000000  "
      ]
     },
     "execution_count": 3,
     "metadata": {},
     "output_type": "execute_result"
    }
   ],
   "source": [
    "df_liquidity_data.describe()"
   ]
  },
  {
   "cell_type": "markdown",
   "metadata": {},
   "source": [
    "Splitting Data\n",
    "==============\n",
    "\n",
    "### Define series named `target` containing only the target variable (available_liquidity)"
   ]
  },
  {
   "cell_type": "code",
   "execution_count": 4,
   "metadata": {},
   "outputs": [],
   "source": [
    "\n",
    "target = df_liquidity_data['available_liquidity']"
   ]
  },
  {
   "cell_type": "markdown",
   "metadata": {},
   "source": [
    "### Define new df named `inputs` ontaining only the input variables (from liquidity dataset)\n"
   ]
  },
  {
   "cell_type": "code",
   "execution_count": 5,
   "metadata": {},
   "outputs": [
    {
     "data": {
      "text/html": [
       "<div>\n",
       "<style scoped>\n",
       "    .dataframe tbody tr th:only-of-type {\n",
       "        vertical-align: middle;\n",
       "    }\n",
       "\n",
       "    .dataframe tbody tr th {\n",
       "        vertical-align: top;\n",
       "    }\n",
       "\n",
       "    .dataframe thead th {\n",
       "        text-align: right;\n",
       "    }\n",
       "</style>\n",
       "<table border=\"1\" class=\"dataframe\">\n",
       "  <thead>\n",
       "    <tr style=\"text-align: right;\">\n",
       "      <th></th>\n",
       "      <th>sp_score</th>\n",
       "      <th>market_cap</th>\n",
       "      <th>total_debt</th>\n",
       "      <th>ltm_capex</th>\n",
       "      <th>ltm_ebitda</th>\n",
       "      <th>ltm_fcf</th>\n",
       "      <th>ltm_revenue</th>\n",
       "    </tr>\n",
       "  </thead>\n",
       "  <tbody>\n",
       "    <tr>\n",
       "      <th>0</th>\n",
       "      <td>2</td>\n",
       "      <td>54856.1961</td>\n",
       "      <td>84628.0</td>\n",
       "      <td>-9262.0</td>\n",
       "      <td>21387.00032</td>\n",
       "      <td>9488.0</td>\n",
       "      <td>170315.0</td>\n",
       "    </tr>\n",
       "  </tbody>\n",
       "</table>\n",
       "</div>"
      ],
      "text/plain": [
       "   sp_score  market_cap  total_debt  ltm_capex   ltm_ebitda  ltm_fcf  \\\n",
       "0         2  54856.1961     84628.0    -9262.0  21387.00032   9488.0   \n",
       "\n",
       "   ltm_revenue  \n",
       "0     170315.0  "
      ]
     },
     "execution_count": 5,
     "metadata": {},
     "output_type": "execute_result"
    }
   ],
   "source": [
    "# drop column = df.drop('column_name', axis=1)\n",
    "inputs = df_liquidity_data.drop('available_liquidity', axis=1)\n",
    "\n",
    "inputs.head(1)"
   ]
  },
  {
   "cell_type": "markdown",
   "metadata": {},
   "source": [
    "### Define df named `results` that contains the result of .train_test_split()\n"
   ]
  },
  {
   "cell_type": "code",
   "execution_count": 6,
   "metadata": {},
   "outputs": [],
   "source": [
    "results = train_test_split(inputs, target, test_size= 0.2, random_state= 1)"
   ]
  },
  {
   "cell_type": "markdown",
   "metadata": {},
   "source": [
    "### Verify data was split correctly"
   ]
  },
  {
   "cell_type": "code",
   "execution_count": 7,
   "metadata": {},
   "outputs": [
    {
     "name": "stdout",
     "output_type": "stream",
     "text": [
      "<class 'list'>\n",
      "4\n",
      "---\n",
      "(641, 7)\n",
      "(161, 7)\n",
      "(641,)\n",
      "(161,)\n"
     ]
    }
   ],
   "source": [
    "print(type(results))\n",
    "print(len(results))\n",
    "print('---')\n",
    "for item in results:\n",
    "    print(item.shape)"
   ]
  },
  {
   "cell_type": "code",
   "execution_count": 8,
   "metadata": {},
   "outputs": [
    {
     "name": "stdout",
     "output_type": "stream",
     "text": [
      "1\n",
      "2\n",
      "3\n"
     ]
    }
   ],
   "source": [
    "# Unpacking lists\n",
    "\n",
    "example_list = [1, 2, 3]\n",
    "\n",
    "one, two, three = example_list\n",
    "\n",
    "print(one)\n",
    "print(two)\n",
    "print(three)"
   ]
  },
  {
   "cell_type": "markdown",
   "metadata": {},
   "source": [
    "### Unpack `results` from train_test_split( ) into required datasets:\n",
    "* `input_train`\n",
    "* `input_test`\n",
    "* `target_train`\n",
    "* `target_test`\n"
   ]
  },
  {
   "cell_type": "code",
   "execution_count": 9,
   "metadata": {},
   "outputs": [
    {
     "name": "stdout",
     "output_type": "stream",
     "text": [
      "(641, 7)\n",
      "(161, 7)\n",
      "(641,)\n",
      "(161,)\n"
     ]
    }
   ],
   "source": [
    "# Excercise: \n",
    "\n",
    "input_train, input_test, target_train, target_test = results\n",
    "\n",
    "print(input_train.shape)\n",
    "print(input_test.shape)\n",
    "print(target_train.shape)\n",
    "print(target_test.shape)"
   ]
  },
  {
   "cell_type": "markdown",
   "metadata": {},
   "source": [
    "### Verify list unpack successful"
   ]
  },
  {
   "cell_type": "code",
   "execution_count": 10,
   "metadata": {},
   "outputs": [
    {
     "data": {
      "text/html": [
       "<div>\n",
       "<style scoped>\n",
       "    .dataframe tbody tr th:only-of-type {\n",
       "        vertical-align: middle;\n",
       "    }\n",
       "\n",
       "    .dataframe tbody tr th {\n",
       "        vertical-align: top;\n",
       "    }\n",
       "\n",
       "    .dataframe thead th {\n",
       "        text-align: right;\n",
       "    }\n",
       "</style>\n",
       "<table border=\"1\" class=\"dataframe\">\n",
       "  <thead>\n",
       "    <tr style=\"text-align: right;\">\n",
       "      <th></th>\n",
       "      <th>sp_score</th>\n",
       "      <th>market_cap</th>\n",
       "      <th>total_debt</th>\n",
       "      <th>ltm_capex</th>\n",
       "      <th>ltm_ebitda</th>\n",
       "      <th>ltm_fcf</th>\n",
       "      <th>ltm_revenue</th>\n",
       "    </tr>\n",
       "  </thead>\n",
       "  <tbody>\n",
       "    <tr>\n",
       "      <th>309</th>\n",
       "      <td>3</td>\n",
       "      <td>16764.94643</td>\n",
       "      <td>1887.019</td>\n",
       "      <td>-483.002</td>\n",
       "      <td>1905.83296</td>\n",
       "      <td>859.71</td>\n",
       "      <td>8653.205</td>\n",
       "    </tr>\n",
       "  </tbody>\n",
       "</table>\n",
       "</div>"
      ],
      "text/plain": [
       "     sp_score   market_cap  total_debt  ltm_capex  ltm_ebitda  ltm_fcf  \\\n",
       "309         3  16764.94643    1887.019   -483.002  1905.83296   859.71   \n",
       "\n",
       "     ltm_revenue  \n",
       "309     8653.205  "
      ]
     },
     "execution_count": 10,
     "metadata": {},
     "output_type": "execute_result"
    }
   ],
   "source": [
    "input_train.head(1)"
   ]
  },
  {
   "cell_type": "code",
   "execution_count": 11,
   "metadata": {},
   "outputs": [
    {
     "data": {
      "text/html": [
       "<div>\n",
       "<style scoped>\n",
       "    .dataframe tbody tr th:only-of-type {\n",
       "        vertical-align: middle;\n",
       "    }\n",
       "\n",
       "    .dataframe tbody tr th {\n",
       "        vertical-align: top;\n",
       "    }\n",
       "\n",
       "    .dataframe thead th {\n",
       "        text-align: right;\n",
       "    }\n",
       "</style>\n",
       "<table border=\"1\" class=\"dataframe\">\n",
       "  <thead>\n",
       "    <tr style=\"text-align: right;\">\n",
       "      <th></th>\n",
       "      <th>sp_score</th>\n",
       "      <th>market_cap</th>\n",
       "      <th>total_debt</th>\n",
       "      <th>ltm_capex</th>\n",
       "      <th>ltm_ebitda</th>\n",
       "      <th>ltm_fcf</th>\n",
       "      <th>ltm_revenue</th>\n",
       "    </tr>\n",
       "  </thead>\n",
       "  <tbody>\n",
       "    <tr>\n",
       "      <th>8</th>\n",
       "      <td>8</td>\n",
       "      <td>172479.4798</td>\n",
       "      <td>24842.0</td>\n",
       "      <td>-1674.0</td>\n",
       "      <td>10841.00006</td>\n",
       "      <td>6830.0</td>\n",
       "      <td>39929.0</td>\n",
       "    </tr>\n",
       "  </tbody>\n",
       "</table>\n",
       "</div>"
      ],
      "text/plain": [
       "   sp_score   market_cap  total_debt  ltm_capex   ltm_ebitda  ltm_fcf  \\\n",
       "8         8  172479.4798     24842.0    -1674.0  10841.00006   6830.0   \n",
       "\n",
       "   ltm_revenue  \n",
       "8      39929.0  "
      ]
     },
     "execution_count": 11,
     "metadata": {},
     "output_type": "execute_result"
    }
   ],
   "source": [
    "input_test.head(1)"
   ]
  },
  {
   "cell_type": "code",
   "execution_count": 12,
   "metadata": {},
   "outputs": [
    {
     "data": {
      "text/plain": [
       "309    1227.539\n",
       "Name: available_liquidity, dtype: float64"
      ]
     },
     "execution_count": 12,
     "metadata": {},
     "output_type": "execute_result"
    }
   ],
   "source": [
    "target_train.head(1)"
   ]
  },
  {
   "cell_type": "code",
   "execution_count": 13,
   "metadata": {},
   "outputs": [
    {
     "data": {
      "text/plain": [
       "8    17708.00026\n",
       "Name: available_liquidity, dtype: float64"
      ]
     },
     "execution_count": 13,
     "metadata": {},
     "output_type": "execute_result"
    }
   ],
   "source": [
    "target_test.head(1)"
   ]
  },
  {
   "cell_type": "markdown",
   "metadata": {},
   "source": [
    "Model Pipelines & Standardisation\n",
    "================================="
   ]
  },
  {
   "cell_type": "markdown",
   "metadata": {},
   "source": [
    "### Import model classes, `make_pipeline` & `StandardScaler`"
   ]
  },
  {
   "cell_type": "code",
   "execution_count": 14,
   "metadata": {},
   "outputs": [],
   "source": [
    "# import libraries\n",
    "\n",
    "from sklearn.linear_model import Lasso, Ridge, ElasticNet\n",
    "from sklearn.pipeline import make_pipeline\n",
    "from sklearn.preprocessing import StandardScaler"
   ]
  },
  {
   "cell_type": "markdown",
   "metadata": {},
   "source": [
    "### Create `pipelines`"
   ]
  },
  {
   "cell_type": "code",
   "execution_count": 15,
   "metadata": {},
   "outputs": [],
   "source": [
    "pipelines = {\n",
    "    'lasso' : make_pipeline(StandardScaler(), Lasso(random_state=1)),\n",
    "    'ridge' : make_pipeline(StandardScaler(), Ridge(random_state=1)),\n",
    "    'enet' : make_pipeline(StandardScaler(), ElasticNet(random_state=1))\n",
    "}"
   ]
  },
  {
   "cell_type": "code",
   "execution_count": 16,
   "metadata": {},
   "outputs": [],
   "source": [
    "from sklearn.ensemble import RandomForestRegressor, GradientBoostingRegressor\n",
    "\n",
    "# add to dictionary\n",
    "pipelines['rf'] = make_pipeline(StandardScaler(), RandomForestRegressor(random_state=1))\n",
    "pipelines['gb'] = make_pipeline(StandardScaler(), GradientBoostingRegressor(random_state=1))"
   ]
  },
  {
   "cell_type": "code",
   "execution_count": 17,
   "metadata": {},
   "outputs": [
    {
     "name": "stdout",
     "output_type": "stream",
     "text": [
      "lasso <class 'sklearn.pipeline.Pipeline'>\n",
      "ridge <class 'sklearn.pipeline.Pipeline'>\n",
      "enet <class 'sklearn.pipeline.Pipeline'>\n",
      "rf <class 'sklearn.pipeline.Pipeline'>\n",
      "gb <class 'sklearn.pipeline.Pipeline'>\n"
     ]
    }
   ],
   "source": [
    "# verify pipelines\n",
    "\n",
    "for key, value in pipelines.items():\n",
    "    print(key, type(value))"
   ]
  },
  {
   "cell_type": "markdown",
   "metadata": {},
   "source": [
    "Hyperparameter Grids\n",
    "===================="
   ]
  },
  {
   "cell_type": "markdown",
   "metadata": {},
   "source": [
    "### Create `hyperparameter grids`"
   ]
  },
  {
   "cell_type": "code",
   "execution_count": 18,
   "metadata": {},
   "outputs": [],
   "source": [
    "lasso_hyperparameters = {\n",
    "    'lasso__alpha' : [0.01, 0.05, 0.1, 0.5, 1, 5] # 0.1 is standard, values below and above added for complexity\n",
    "}\n",
    "\n",
    "ridge_hyperparameters = {\n",
    "    'ridge__alpha' : [0.01, 0.05, 0.1, 0.5, 1, 5]\n",
    "}\n",
    "\n",
    "enet_hyperparameters = {\n",
    "    'elasticnet__alpha' : [0.01, 0.05, 0.1, 0.5, 1, 5],\n",
    "    'elasticnet__l1_ratio' : [0.1, 0.3, 0.5, 0.7, 0.9]\n",
    "}"
   ]
  },
  {
   "cell_type": "code",
   "execution_count": 19,
   "metadata": {},
   "outputs": [],
   "source": [
    "rf_hyperparameters = {\n",
    "    'randomforestregressor__n_estimators' : [100, 200], # n of decision trees\n",
    "    'randomforestregressor__max_features' : [None, 0.3, 0.6]\n",
    "}\n",
    "\n",
    "gb_hyperparameters = {\n",
    "    'gradientboostingregressor__n_estimators' : [100, 200],\n",
    "    'gradientboostingregressor__learning_rate' : [0.05, 0.1, 0.2],\n",
    "    'gradientboostingregressor__max_depth' : [1, 3, 5]\n",
    "}"
   ]
  },
  {
   "cell_type": "markdown",
   "metadata": {},
   "source": [
    "### Aggregating Hyperparameter Grids"
   ]
  },
  {
   "cell_type": "code",
   "execution_count": 20,
   "metadata": {},
   "outputs": [],
   "source": [
    "hyperparameter_grids = {\n",
    "    'lasso' : lasso_hyperparameters,\n",
    "    'ridge' : ridge_hyperparameters,\n",
    "    'enet' : enet_hyperparameters,\n",
    "    'rf' : rf_hyperparameters,\n",
    "    'gb' : gb_hyperparameters\n",
    "}"
   ]
  },
  {
   "cell_type": "code",
   "execution_count": 21,
   "metadata": {},
   "outputs": [
    {
     "name": "stdout",
     "output_type": "stream",
     "text": [
      "lasso was found, and it is a grid.\n",
      "ridge was found, and it is a grid.\n",
      "enet was found, and it is a grid.\n",
      "rf was found, and it is a grid.\n",
      "gb was found, and it is a grid.\n"
     ]
    }
   ],
   "source": [
    "# progress checkpoint\n",
    "\n",
    "for key in ['lasso', 'ridge', 'enet', 'rf', 'gb']:\n",
    "    if key in hyperparameter_grids:\n",
    "        if type(hyperparameter_grids[key]) is dict:\n",
    "            print( key, 'was found, and it is a grid.' )\n",
    "        else:\n",
    "            print( key, 'was found, but it is not a grid.' )\n",
    "    else:\n",
    "        print( key, 'was not found.')"
   ]
  },
  {
   "cell_type": "markdown",
   "metadata": {},
   "source": [
    "Cross-Validate and Score Liquidity Models\n",
    "=========================================\n",
    "\n",
    "1. **`create`** untrained model for each model class\n",
    "2. **`train`** each model & **`hypertune`** parameters\n",
    "3. use trained models to **`make predictions`** based on input from training data\n",
    "4. **`compare`** predictions against actual target values"
   ]
  },
  {
   "cell_type": "code",
   "execution_count": 22,
   "metadata": {},
   "outputs": [],
   "source": [
    "# 1. Create untrained model for each model class\n",
    "\n",
    "from sklearn.model_selection import GridSearchCV\n",
    "\n",
    "untrained_lasso_model = GridSearchCV(pipelines['lasso'], hyperparameter_grids['lasso'], cv=5)"
   ]
  },
  {
   "cell_type": "code",
   "execution_count": 23,
   "metadata": {},
   "outputs": [
    {
     "name": "stdout",
     "output_type": "stream",
     "text": [
      "dict_keys(['lasso', 'ridge', 'enet', 'rf', 'gb'])\n",
      "---\n",
      "dict_keys(['lasso', 'ridge', 'enet', 'rf', 'gb'])\n"
     ]
    }
   ],
   "source": [
    "print(pipelines.keys())\n",
    "print('---')\n",
    "print(hyperparameter_grids.keys())"
   ]
  },
  {
   "cell_type": "code",
   "execution_count": 24,
   "metadata": {},
   "outputs": [
    {
     "data": {
      "text/plain": [
       "dict"
      ]
     },
     "execution_count": 24,
     "metadata": {},
     "output_type": "execute_result"
    }
   ],
   "source": [
    "# Exercise\n",
    "\n",
    "models = {}\n",
    "type(models)"
   ]
  },
  {
   "cell_type": "code",
   "execution_count": 25,
   "metadata": {},
   "outputs": [
    {
     "data": {
      "text/plain": [
       "dict_keys(['lasso', 'ridge', 'enet', 'rf', 'gb'])"
      ]
     },
     "execution_count": 25,
     "metadata": {},
     "output_type": "execute_result"
    }
   ],
   "source": [
    "# create 'models' dict\n",
    "\n",
    "for key in pipelines.keys():\n",
    "    models[key] = GridSearchCV(pipelines[key], hyperparameter_grids[key], cv=5)\n",
    "\n",
    "models.keys()"
   ]
  },
  {
   "cell_type": "code",
   "execution_count": 26,
   "metadata": {},
   "outputs": [
    {
     "name": "stdout",
     "output_type": "stream",
     "text": [
      "lasso is trained and tuned.\n",
      "ridge is trained and tuned.\n"
     ]
    },
    {
     "name": "stdout",
     "output_type": "stream",
     "text": [
      "enet is trained and tuned.\n",
      "rf is trained and tuned.\n",
      "gb is trained and tuned.\n"
     ]
    }
   ],
   "source": [
    "# 2. Train each model & hypertune parameters\n",
    "\n",
    "# .fit(input_training_data, target_training_data)\n",
    "# when executing, hyperparameters will be tuned and model trained\n",
    "\n",
    "for key in models:\n",
    "    models[key].fit(input_train, target_train)\n",
    "    print(key + ' is trained and tuned.')"
   ]
  },
  {
   "cell_type": "code",
   "execution_count": 27,
   "metadata": {},
   "outputs": [],
   "source": [
    "# 3. Use trained models to make predictions based on input from training data\n",
    "# 4. compare predictions against actual target values\n",
    "\n",
    "from sklearn.metrics import r2_score, mean_absolute_error"
   ]
  },
  {
   "cell_type": "code",
   "execution_count": 28,
   "metadata": {},
   "outputs": [
    {
     "name": "stdout",
     "output_type": "stream",
     "text": [
      "R-Squared: 0.498\n",
      "MAE: 1710.083\n"
     ]
    }
   ],
   "source": [
    "# make predictions with SciKit Learn .predict() function\n",
    "\n",
    "lasso_preds = models['lasso'].predict(input_test)\n",
    "print('R-Squared:', round(r2_score(target_test, lasso_preds), 3))\n",
    "print('MAE:', round(mean_absolute_error(target_test, lasso_preds), 3))"
   ]
  },
  {
   "cell_type": "code",
   "execution_count": 29,
   "metadata": {},
   "outputs": [
    {
     "name": "stdout",
     "output_type": "stream",
     "text": [
      "lasso -- R-Squared: 0.498\n",
      "lasso -- MAE: 1710.083\n",
      "ridge -- R-Squared: 0.5\n",
      "ridge -- MAE: 1708.062\n",
      "enet -- R-Squared: 0.501\n",
      "enet -- MAE: 1706.04\n",
      "rf -- R-Squared: 0.843\n",
      "rf -- MAE: 947.763\n",
      "gb -- R-Squared: 0.886\n",
      "gb -- MAE: 513.433\n"
     ]
    }
   ],
   "source": [
    "# Excercise - for-loop to make predictions and compare\n",
    "\n",
    "for model in models:\n",
    "    # make predictions\n",
    "    preds = models[model].predict(input_test)\n",
    "    # compare model output to real answers\n",
    "    print(model, '-- R-Squared:', round(r2_score(target_test, preds), 3))\n",
    "    print(model, '-- MAE:', round(mean_absolute_error(target_test, preds), 3))"
   ]
  },
  {
   "cell_type": "markdown",
   "metadata": {},
   "source": [
    "Visualise results\n",
    "================="
   ]
  },
  {
   "cell_type": "code",
   "execution_count": 30,
   "metadata": {},
   "outputs": [
    {
     "data": {
      "image/png": "[encoded data removed]",
      "text/plain": [
       "<Figure size 640x480 with 1 Axes>"
      ]
     },
     "metadata": {},
     "output_type": "display_data"
    }
   ],
   "source": [
    "# Make predictions with test data\n",
    "\n",
    "preds = models['lasso'].predict(input_test)\n",
    "\n",
    "# Plot predictions on x axis, target_test on y axis\n",
    "plt.scatter(preds, target_test)\n",
    "\n",
    "# label axes and show graph\n",
    "plt.xlabel('Predicted')\n",
    "plt.ylabel('Actual')\n",
    "plt.show()"
   ]
  },
  {
   "cell_type": "code",
   "execution_count": 31,
   "metadata": {},
   "outputs": [
    {
     "data": {
      "image/png": "[encoded data removed]",
      "text/plain": [
       "<Figure size 640x480 with 1 Axes>"
      ]
     },
     "metadata": {},
     "output_type": "display_data"
    },
    {
     "data": {
      "image/png": "[encoded data removed]",
      "text/plain": [
       "<Figure size 640x480 with 1 Axes>"
      ]
     },
     "metadata": {},
     "output_type": "display_data"
    },
    {
     "data": {
      "image/png": "[encoded data removed]",
      "text/plain": [
       "<Figure size 640x480 with 1 Axes>"
      ]
     },
     "metadata": {},
     "output_type": "display_data"
    },
    {
     "data": {
      "image/png": "[encoded data removed]",
      "text/plain": [
       "<Figure size 640x480 with 1 Axes>"
      ]
     },
     "metadata": {},
     "output_type": "display_data"
    },
    {
     "data": {
      "image/png": "[encoded data removed]",
      "text/plain": [
       "<Figure size 640x480 with 1 Axes>"
      ]
     },
     "metadata": {},
     "output_type": "display_data"
    }
   ],
   "source": [
    "for model in models:\n",
    "\n",
    "    # Make predictions with test data\n",
    "\n",
    "    preds = models[model].predict(input_test)\n",
    "\n",
    "    # Plot predictions on x axis, target_test on y axis\n",
    "    plt.scatter(preds, target_test)\n",
    "\n",
    "    # label axes and show graph\n",
    "    plt.xlabel('Predicted')\n",
    "    plt.ylabel('Actual')\n",
    "    plt.title(model)\n",
    "    plt.show()"
   ]
  },
  {
   "cell_type": "markdown",
   "metadata": {},
   "source": [
    "Using the model\n",
    "==============="
   ]
  },
  {
   "cell_type": "code",
   "execution_count": 32,
   "metadata": {},
   "outputs": [
    {
     "data": {
      "text/plain": [
       "array([28673.37496513])"
      ]
     },
     "execution_count": 32,
     "metadata": {},
     "output_type": "execute_result"
    }
   ],
   "source": [
    "# load data\n",
    "client = pd.read_csv(os.path.join(project_path, 'liquidity_client.csv'))\n",
    "\n",
    "# make prediction\n",
    "models['gb'].predict(client)"
   ]
  }
 ],
 "metadata": {
  "kernelspec": {
   "display_name": ".venv",
   "language": "python",
   "name": "python3"
  },
  "language_info": {
   "codemirror_mode": {
    "name": "ipython",
    "version": 3
   },
   "file_extension": ".py",
   "mimetype": "text/x-python",
   "name": "python",
   "nbconvert_exporter": "python",
   "pygments_lexer": "ipython3",
   "version": "3.10.4"
  }
 },
 "nbformat": 4,
 "nbformat_minor": 2
}
